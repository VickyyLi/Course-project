{
 "cells": [
  {
   "cell_type": "markdown",
   "metadata": {},
   "source": [
    "## COMP41680 Assignment 1"
   ]
  },
  {
   "cell_type": "markdown",
   "metadata": {},
   "source": [
    "Name: Li Weijing  \n",
    "Student No.: 19204246"
   ]
  },
  {
   "cell_type": "code",
   "execution_count": 1,
   "metadata": {},
   "outputs": [],
   "source": [
    "# -*- coding: UTF-8 -*-\n",
    "import requests\n",
    "import csv\n",
    "import bs4\n",
    "import pandas as pd\n",
    "import urllib.request\n",
    "\n",
    "import sklearn\n",
    "from sklearn.feature_extraction.text import CountVectorizer,TfidfVectorizer\n",
    "from sklearn.model_selection import cross_val_score,KFold,train_test_split\n",
    "from sklearn import metrics,ensemble\n",
    "\n",
    "import nltk\n",
    "from tqdm import tqdm\n",
    "import math\n",
    "import warnings\n",
    "warnings.filterwarnings(\"ignore\")\n",
    "import matplotlib.pyplot as plt\n",
    "%matplotlib inline"
   ]
  },
  {
   "cell_type": "markdown",
   "metadata": {},
   "source": [
    "## Tasks 1: Collect and store review categories"
   ]
  },
  {
   "cell_type": "code",
   "execution_count": 2,
   "metadata": {},
   "outputs": [],
   "source": [
    "'''\n",
    "collect_url: Collect all text-reviews from the subpage of path, store the review \n",
    "text and a class label ('negative' and 'positive').\n",
    "'''\n",
    "def collect_url(path):\n",
    "    df_sub = pd.DataFrame([], columns=['review-text', 'rating'])\n",
    "    response= urllib.request.urlopen(path)\n",
    "    html = response.read().decode()\n",
    "    parser = bs4.BeautifulSoup(html,\"html.parser\")\n",
    "    url_list = []\n",
    "    for match in parser.find_all(\"a\"):\n",
    "        text = match.get('href')\n",
    "        url_list.append(text)\n",
    "    ii=1\n",
    "    for i in tqdm(url_list):\n",
    "        path = \"http://mlg.ucd.ie/modules/yalp/\"+i\n",
    "        response= urllib.request.urlopen(path)\n",
    "        html = response.read().decode()\n",
    "        parser = bs4.BeautifulSoup(html,\"html.parser\")\n",
    "        for match in parser.find_all(\"p\"):\n",
    "            text = str(match.get_text)\n",
    "            if \"class=\\\"rating\\\"\" in text:\n",
    "                start_pos = text.find(\"class=\\\"rating\\\"\")+len(\"class=\\\"rating\\\"><img alt=\\\"\")\n",
    "                rating = int(text[start_pos:start_pos+1])\n",
    "                if rating<=3:\n",
    "                    df_sub.loc[ii,'rating']=\"negative\"\n",
    "                elif rating>=4:\n",
    "                    df_sub.loc[ii,'rating']=\"positive\"\n",
    "            if \"class=\\\"review-text\\\"\" in text:\n",
    "                start_pos = text.find(\"class=\\\"review-text\\\"\")+len(\"class=\\\"review-text\\\"\")+1\n",
    "                df_sub.loc[ii,'review-text']=text[start_pos:-5]\n",
    "                ii+=1\n",
    "    return df_sub"
   ]
  },
  {
   "cell_type": "code",
   "execution_count": 3,
   "metadata": {},
   "outputs": [
    {
     "name": "stderr",
     "output_type": "stream",
     "text": [
      "100%|█████████████████████████████████████████████████████████| 97/97 [01:05<00:00,  1.49it/s]\n",
      "100%|███████████████████████████████████████████████████████| 114/114 [01:13<00:00,  1.54it/s]\n",
      "100%|███████████████████████████████████████████████████████| 101/101 [01:06<00:00,  1.51it/s]\n"
     ]
    }
   ],
   "source": [
    "df_sub_one = collect_url(\"http://mlg.ucd.ie/modules/yalp/cafes_list.html\")\n",
    "df_sub_one.to_csv(\"reviews_cafes.csv\",index=True)\n",
    "df_sub_two = collect_url(\"http://mlg.ucd.ie/modules/yalp/hotels_list.html\")\n",
    "df_sub_two.to_csv(\"reviews_hotels.csv\",index=True)\n",
    "df_sub_three = collect_url(\"http://mlg.ucd.ie/modules/yalp/restaurants_list.html\")\n",
    "df_sub_three.to_csv(\"reviews_restaurants.csv\",index=True)"
   ]
  },
  {
   "cell_type": "markdown",
   "metadata": {},
   "source": [
    "## Task 2a. Create a numeric representation of the data"
   ]
  },
  {
   "cell_type": "code",
   "execution_count": 4,
   "metadata": {},
   "outputs": [
    {
     "data": {
      "text/html": [
       "<div>\n",
       "<style scoped>\n",
       "    .dataframe tbody tr th:only-of-type {\n",
       "        vertical-align: middle;\n",
       "    }\n",
       "\n",
       "    .dataframe tbody tr th {\n",
       "        vertical-align: top;\n",
       "    }\n",
       "\n",
       "    .dataframe thead th {\n",
       "        text-align: right;\n",
       "    }\n",
       "</style>\n",
       "<table border=\"1\" class=\"dataframe\">\n",
       "  <thead>\n",
       "    <tr style=\"text-align: right;\">\n",
       "      <th></th>\n",
       "      <th>Unnamed: 0</th>\n",
       "      <th>review-text</th>\n",
       "      <th>rating</th>\n",
       "    </tr>\n",
       "  </thead>\n",
       "  <tbody>\n",
       "    <tr>\n",
       "      <td>0</td>\n",
       "      <td>1</td>\n",
       "      <td>Pros: Lots of items you would not expect from ...</td>\n",
       "      <td>positive</td>\n",
       "    </tr>\n",
       "    <tr>\n",
       "      <td>1</td>\n",
       "      <td>2</td>\n",
       "      <td>Best egg-tarts in town! There's really not muc...</td>\n",
       "      <td>positive</td>\n",
       "    </tr>\n",
       "    <tr>\n",
       "      <td>2</td>\n",
       "      <td>3</td>\n",
       "      <td>I've been to ABC Bakery a few times since I re...</td>\n",
       "      <td>negative</td>\n",
       "    </tr>\n",
       "    <tr>\n",
       "      <td>3</td>\n",
       "      <td>4</td>\n",
       "      <td>FYI, Closed Monday's New ownership for about 1...</td>\n",
       "      <td>negative</td>\n",
       "    </tr>\n",
       "    <tr>\n",
       "      <td>4</td>\n",
       "      <td>5</td>\n",
       "      <td>The inside may not look like much but they mak...</td>\n",
       "      <td>positive</td>\n",
       "    </tr>\n",
       "  </tbody>\n",
       "</table>\n",
       "</div>"
      ],
      "text/plain": [
       "   Unnamed: 0                                        review-text    rating\n",
       "0           1  Pros: Lots of items you would not expect from ...  positive\n",
       "1           2  Best egg-tarts in town! There's really not muc...  positive\n",
       "2           3  I've been to ABC Bakery a few times since I re...  negative\n",
       "3           4  FYI, Closed Monday's New ownership for about 1...  negative\n",
       "4           5  The inside may not look like much but they mak...  positive"
      ]
     },
     "execution_count": 4,
     "metadata": {},
     "output_type": "execute_result"
    }
   ],
   "source": [
    "df_one = pd.read_csv(\"reviews_cafes.csv\", sep=\",\")\n",
    "df_two = pd.read_csv(\"reviews_hotels.csv\", sep=\",\")\n",
    "df_three = pd.read_csv(\"reviews_restaurants.csv\", sep=\",\")\n",
    "df=pd.concat([df_one,df_two,df_three])\n",
    "df.head(5)"
   ]
  },
  {
   "cell_type": "code",
   "execution_count": 5,
   "metadata": {},
   "outputs": [],
   "source": [
    "review_document = df[\"review-text\"]\n",
    "rating = df[\"rating\"]"
   ]
  },
  {
   "cell_type": "code",
   "execution_count": 6,
   "metadata": {},
   "outputs": [],
   "source": [
    "def lemma_tokenizer(text):\n",
    "    # use the standard scikit-learn tokenizer first\n",
    "    standard_tokenizer = CountVectorizer().build_tokenizer()\n",
    "    tokens = standard_tokenizer(text)\n",
    "    # then use NLTK to perform lemmatisation on each token\n",
    "    lemmatizer = nltk.stem.WordNetLemmatizer()\n",
    "    lemma_tokens = []\n",
    "    for token in tokens:\n",
    "        lemma_tokens.append( lemmatizer.lemmatize(token) )\n",
    "    return lemma_tokens"
   ]
  },
  {
   "cell_type": "code",
   "execution_count": 7,
   "metadata": {},
   "outputs": [],
   "source": [
    "vectorizer = TfidfVectorizer( min_df = 10, stop_words=\"english\",tokenizer=lemma_tokenizer)\n",
    "X = pd.DataFrame(vectorizer.fit_transform(review_document).toarray())"
   ]
  },
  {
   "cell_type": "code",
   "execution_count": 8,
   "metadata": {},
   "outputs": [],
   "source": [
    "# divide X into three parts: cafe, hotel and restaurant\n",
    "X_one = X[:df_one.shape[0]]\n",
    "y_one = rating[:df_one.shape[0]]\n",
    "\n",
    "X_two = X[df_one.shape[0]:(df_one.shape[0]+df_two.shape[0])]\n",
    "y_two = rating[df_one.shape[0]:(df_one.shape[0]+df_two.shape[0])]\n",
    "\n",
    "X_three = X[-df_three.shape[0]:]\n",
    "y_three = rating[-df_three.shape[0]:]"
   ]
  },
  {
   "cell_type": "code",
   "execution_count": 9,
   "metadata": {},
   "outputs": [
    {
     "name": "stdout",
     "output_type": "stream",
     "text": [
      "(2000, 3362) (2000,) (2000, 3362) (2000,) (2000, 3362) (2000,)\n"
     ]
    }
   ],
   "source": [
    "print(X_one.shape,y_one.shape,X_two.shape,y_two.shape,X_three.shape,y_three.shape)"
   ]
  },
  {
   "cell_type": "markdown",
   "metadata": {},
   "source": [
    "## Task 2b. Build a classification model ：Random Forests"
   ]
  },
  {
   "cell_type": "code",
   "execution_count": 10,
   "metadata": {},
   "outputs": [],
   "source": [
    "# Use random forest to build a classification model\n",
    "my_model = ensemble.RandomForestClassifier(n_estimators=300)"
   ]
  },
  {
   "cell_type": "markdown",
   "metadata": {},
   "source": [
    "## Task 2c. Test the predictions of the classification model "
   ]
  },
  {
   "cell_type": "code",
   "execution_count": 11,
   "metadata": {},
   "outputs": [],
   "source": [
    "# transform 'negative' and 'positive' to [0,1]\n",
    "num_classes = 2\n",
    "y_encoder = sklearn.preprocessing.LabelEncoder()\n",
    "y_num = y_encoder.fit_transform(rating)"
   ]
  },
  {
   "cell_type": "code",
   "execution_count": 12,
   "metadata": {
    "scrolled": true
   },
   "outputs": [
    {
     "name": "stdout",
     "output_type": "stream",
     "text": [
      "Accuracy: 0.8666666666666667\n",
      "              precision    recall  f1-score   support\n",
      "\n",
      "           0       0.90      0.72      0.80       544\n",
      "           1       0.85      0.95      0.90       956\n",
      "\n",
      "    accuracy                           0.87      1500\n",
      "   macro avg       0.88      0.83      0.85      1500\n",
      "weighted avg       0.87      0.87      0.86      1500\n",
      "\n"
     ]
    }
   ],
   "source": [
    "# split data into train dataset and validation dataset\n",
    "X_train, X_valid, y_train, y_valid \\\n",
    "    = train_test_split(X,y_num,random_state=0,train_size = 0.75)\n",
    "my_model.fit(X_train,y_train)\n",
    "y_pred = my_model.predict(X_valid)\n",
    "# Evaluate simple train and validation dataset\n",
    "accuracy = metrics.accuracy_score(y_valid,y_pred)\n",
    "print(\"Accuracy: \"+str(accuracy))\n",
    "print(metrics.classification_report(y_valid, y_pred))"
   ]
  },
  {
   "cell_type": "code",
   "execution_count": 13,
   "metadata": {
    "scrolled": true
   },
   "outputs": [
    {
     "name": "stdout",
     "output_type": "stream",
     "text": [
      "0.9298028704159489\n"
     ]
    },
    {
     "data": {
      "text/plain": [
       "[<matplotlib.lines.Line2D at 0x19c5cbbce48>]"
      ]
     },
     "execution_count": 13,
     "metadata": {},
     "output_type": "execute_result"
    },
    {
     "data": {
      "image/png": "[encoded data removed]",
      "text/plain": [
       "<Figure size 432x288 with 1 Axes>"
      ]
     },
     "metadata": {
      "needs_background": "light"
     },
     "output_type": "display_data"
    }
   ],
   "source": [
    "# Make a set of predictions for the validation data\n",
    "y_pred = my_model.predict_proba(X_valid)\n",
    "print(metrics.roc_auc_score(y_valid, y_pred[:, 1]))\n",
    "fpr, tpr, thresh = metrics.roc_curve(y_valid, y_pred[:, 1])\n",
    "roc_auc = metrics.auc(fpr, tpr)\n",
    "# Draw the ROC curve for the model\n",
    "plt.plot(fpr, tpr)"
   ]
  },
  {
   "cell_type": "code",
   "execution_count": 14,
   "metadata": {},
   "outputs": [
    {
     "name": "stdout",
     "output_type": "stream",
     "text": [
      "Mean cross-validation accuracy = 0.8590\n"
     ]
    }
   ],
   "source": [
    "# Cross validation to estimate accuracy\n",
    "scores = cross_val_score(my_model, X, y_num,cv=10,scoring='accuracy')\n",
    "print(\"Mean cross-validation accuracy = %.4f\" %scores.mean())"
   ]
  },
  {
   "cell_type": "markdown",
   "metadata": {},
   "source": [
    "## Task 3. Train different categories"
   ]
  },
  {
   "cell_type": "code",
   "execution_count": 15,
   "metadata": {},
   "outputs": [],
   "source": [
    "def train_category(X_train,y_train,X_test,y_test):\n",
    "    num_classes = 2\n",
    "    y_encoder = sklearn.preprocessing.LabelEncoder()\n",
    "    y_train = y_encoder.fit_transform(y_train)\n",
    "    y_test = y_encoder.fit_transform(y_test)\n",
    "    \n",
    "    my_model.fit(X_train,y_train)\n",
    "    y_pred = my_model.predict(X_test)\n",
    "    accuracy = metrics.accuracy_score(y_test,y_pred)\n",
    "    # Use a set of evalution methods to evaluate the model\n",
    "    print(\"Accuracy: \"+str(accuracy))\n",
    "    print(metrics.classification_report(y_test, y_pred))\n",
    "    \n",
    "    y_pred = my_model.predict_proba(X_test)\n",
    "    print(metrics.roc_auc_score(y_test, y_pred[:, 1]))\n",
    "    fpr, tpr, thresh = metrics.roc_curve(y_test, y_pred[:, 1])\n",
    "    roc_auc = metrics.auc(fpr, tpr)\n",
    "    plt.plot(fpr, tpr)"
   ]
  },
  {
   "cell_type": "code",
   "execution_count": 16,
   "metadata": {},
   "outputs": [
    {
     "name": "stdout",
     "output_type": "stream",
     "text": [
      "Accuracy: 0.79375\n",
      "              precision    recall  f1-score   support\n",
      "\n",
      "           0       0.91      0.56      0.69      1662\n",
      "           1       0.75      0.96      0.84      2338\n",
      "\n",
      "    accuracy                           0.79      4000\n",
      "   macro avg       0.83      0.76      0.77      4000\n",
      "weighted avg       0.82      0.79      0.78      4000\n",
      "\n",
      "0.8883066770018498\n"
     ]
    },
    {
     "data": {
      "image/png": "[encoded data removed]",
      "text/plain": [
       "<Figure size 432x288 with 1 Axes>"
      ]
     },
     "metadata": {
      "needs_background": "light"
     },
     "output_type": "display_data"
    }
   ],
   "source": [
    "# Train dataset: Category A”.Test dataset Category B and Category C. \n",
    "train_category(X_one,y_one,pd.concat([X_two,X_three],axis=0),\\\n",
    "               pd.concat([y_two,y_three],axis=0))"
   ]
  },
  {
   "cell_type": "code",
   "execution_count": 17,
   "metadata": {},
   "outputs": [
    {
     "name": "stdout",
     "output_type": "stream",
     "text": [
      "Accuracy: 0.81175\n",
      "              precision    recall  f1-score   support\n",
      "\n",
      "           0       0.84      0.56      0.67      1376\n",
      "           1       0.80      0.95      0.87      2624\n",
      "\n",
      "    accuracy                           0.81      4000\n",
      "   macro avg       0.82      0.75      0.77      4000\n",
      "weighted avg       0.82      0.81      0.80      4000\n",
      "\n",
      "0.88728984242059\n"
     ]
    },
    {
     "data": {
      "image/png": "[encoded data removed]",
      "text/plain": [
       "<Figure size 432x288 with 1 Axes>"
      ]
     },
     "metadata": {
      "needs_background": "light"
     },
     "output_type": "display_data"
    }
   ],
   "source": [
    "# Train dataset: Category B”.Test dataset Category A and Category C. \n",
    "train_category(X_two,y_two,pd.concat([X_one,X_three],axis=0),\\\n",
    "               pd.concat([y_one,y_three],axis=0))"
   ]
  },
  {
   "cell_type": "code",
   "execution_count": 18,
   "metadata": {},
   "outputs": [
    {
     "name": "stdout",
     "output_type": "stream",
     "text": [
      "Accuracy: 0.8515\n",
      "              precision    recall  f1-score   support\n",
      "\n",
      "           0       0.77      0.81      0.79      1362\n",
      "           1       0.90      0.87      0.89      2638\n",
      "\n",
      "    accuracy                           0.85      4000\n",
      "   macro avg       0.83      0.84      0.84      4000\n",
      "weighted avg       0.85      0.85      0.85      4000\n",
      "\n",
      "0.9163670526441182\n"
     ]
    },
    {
     "data": {
      "image/png": "[encoded data removed]",
      "text/plain": [
       "<Figure size 432x288 with 1 Axes>"
      ]
     },
     "metadata": {
      "needs_background": "light"
     },
     "output_type": "display_data"
    }
   ],
   "source": [
    "# Train dataset: Category c”.Test dataset Category A and Category B. \n",
    "train_category(X_three,y_three,pd.concat([X_one,X_two],axis=0),\\\n",
    "               pd.concat([y_one,y_two],axis=0))"
   ]
  },
  {
   "cell_type": "code",
   "execution_count": 19,
   "metadata": {},
   "outputs": [],
   "source": [
    "# From the previous evaluation, it's obvious that the model train on category C\n",
    "# achieves highest accuracy on the test set. The area under the ROC curve also \n",
    "# also shows that the third model has the highest accuracy. "
   ]
  }
 ],
 "metadata": {
  "kernelspec": {
   "display_name": "Python 3",
   "language": "python",
   "name": "python3"
  },
  "language_info": {
   "codemirror_mode": {
    "name": "ipython",
    "version": 3
   },
   "file_extension": ".py",
   "mimetype": "text/x-python",
   "name": "python",
   "nbconvert_exporter": "python",
   "pygments_lexer": "ipython3",
   "version": "3.7.4"
  }
 },
 "nbformat": 4,
 "nbformat_minor": 2
}
